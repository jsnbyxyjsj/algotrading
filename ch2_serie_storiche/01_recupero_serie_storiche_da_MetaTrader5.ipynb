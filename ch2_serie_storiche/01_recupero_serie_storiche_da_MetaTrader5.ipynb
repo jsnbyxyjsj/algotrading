{
 "cells": [
  {
   "cell_type": "markdown",
   "metadata": {
    "collapsed": true,
    "pycharm": {
     "name": "#%% md\n"
    }
   },
   "source": [
    "### Esercitazione 1 - Recupero serie storiche tramite MetaTrader5\n",
    "#### Argomenti\n",
    "\n",
    "* recupero serie storiche da un provider dati (ActivTrades)\n",
    "* analisi struttura OHLC e OHLCV\n",
    "* analisi statistica iniziale dataset\n",
    "* check tempo di esecuzione snippet di codice"
   ]
  },
  {
   "cell_type": "code",
   "execution_count": 1,
   "metadata": {
    "pycharm": {
     "name": "#%%\n"
    }
   },
   "outputs": [],
   "source": [
    "import pandas as pd\n",
    "import MetaTrader5 as mt5  # pip install MetaTrader5\n",
    "import mplfinance as mpf  # pip install mplfinance\n",
    "from datetime import datetime"
   ]
  },
  {
   "cell_type": "code",
   "execution_count": 2,
   "metadata": {
    "pycharm": {
     "name": "#%%\n"
    }
   },
   "outputs": [],
   "source": [
    "connected = mt5.initialize(login=5776609, server=\"ActivTrades-Server\", password='YDSNcmto')\n",
    "\n",
    "if connected:\n",
    "    candles = pd.DataFrame(mt5.copy_rates_from_pos('EURUSD', mt5.TIMEFRAME_H1, 0, 50000))\n",
    "    mt5.shutdown()\n",
    "else:\n",
    "    print('MT5 account error.')"
   ]
  },
  {
   "cell_type": "code",
   "execution_count": 3,
   "metadata": {
    "pycharm": {
     "name": "#%%\n"
    }
   },
   "outputs": [
    {
     "data": {
      "text/html": [
       "<div>\n",
       "<style scoped>\n",
       "    .dataframe tbody tr th:only-of-type {\n",
       "        vertical-align: middle;\n",
       "    }\n",
       "\n",
       "    .dataframe tbody tr th {\n",
       "        vertical-align: top;\n",
       "    }\n",
       "\n",
       "    .dataframe thead th {\n",
       "        text-align: right;\n",
       "    }\n",
       "</style>\n",
       "<table border=\"1\" class=\"dataframe\">\n",
       "  <thead>\n",
       "    <tr style=\"text-align: right;\">\n",
       "      <th></th>\n",
       "      <th>time</th>\n",
       "      <th>open</th>\n",
       "      <th>high</th>\n",
       "      <th>low</th>\n",
       "      <th>close</th>\n",
       "      <th>tick_volume</th>\n",
       "      <th>spread</th>\n",
       "      <th>real_volume</th>\n",
       "    </tr>\n",
       "  </thead>\n",
       "  <tbody>\n",
       "    <tr>\n",
       "      <th>0</th>\n",
       "      <td>1411736400</td>\n",
       "      <td>1.27431</td>\n",
       "      <td>1.27438</td>\n",
       "      <td>1.27249</td>\n",
       "      <td>1.27318</td>\n",
       "      <td>4269</td>\n",
       "      <td>2</td>\n",
       "      <td>0</td>\n",
       "    </tr>\n",
       "    <tr>\n",
       "      <th>1</th>\n",
       "      <td>1411740000</td>\n",
       "      <td>1.27317</td>\n",
       "      <td>1.27398</td>\n",
       "      <td>1.27105</td>\n",
       "      <td>1.27136</td>\n",
       "      <td>7834</td>\n",
       "      <td>2</td>\n",
       "      <td>0</td>\n",
       "    </tr>\n",
       "    <tr>\n",
       "      <th>2</th>\n",
       "      <td>1411743600</td>\n",
       "      <td>1.27133</td>\n",
       "      <td>1.27283</td>\n",
       "      <td>1.26890</td>\n",
       "      <td>1.26964</td>\n",
       "      <td>9432</td>\n",
       "      <td>2</td>\n",
       "      <td>0</td>\n",
       "    </tr>\n",
       "    <tr>\n",
       "      <th>3</th>\n",
       "      <td>1411747200</td>\n",
       "      <td>1.26970</td>\n",
       "      <td>1.27034</td>\n",
       "      <td>1.26780</td>\n",
       "      <td>1.26958</td>\n",
       "      <td>8660</td>\n",
       "      <td>2</td>\n",
       "      <td>0</td>\n",
       "    </tr>\n",
       "    <tr>\n",
       "      <th>4</th>\n",
       "      <td>1411750800</td>\n",
       "      <td>1.26955</td>\n",
       "      <td>1.27014</td>\n",
       "      <td>1.26817</td>\n",
       "      <td>1.26853</td>\n",
       "      <td>4583</td>\n",
       "      <td>2</td>\n",
       "      <td>0</td>\n",
       "    </tr>\n",
       "  </tbody>\n",
       "</table>\n",
       "</div>"
      ],
      "text/plain": [
       "         time     open     high      low    close  tick_volume  spread  \\\n",
       "0  1411736400  1.27431  1.27438  1.27249  1.27318         4269       2   \n",
       "1  1411740000  1.27317  1.27398  1.27105  1.27136         7834       2   \n",
       "2  1411743600  1.27133  1.27283  1.26890  1.26964         9432       2   \n",
       "3  1411747200  1.26970  1.27034  1.26780  1.26958         8660       2   \n",
       "4  1411750800  1.26955  1.27014  1.26817  1.26853         4583       2   \n",
       "\n",
       "   real_volume  \n",
       "0            0  \n",
       "1            0  \n",
       "2            0  \n",
       "3            0  \n",
       "4            0  "
      ]
     },
     "execution_count": 3,
     "metadata": {},
     "output_type": "execute_result"
    }
   ],
   "source": [
    "candles.head()"
   ]
  },
  {
   "cell_type": "code",
   "execution_count": 4,
   "metadata": {
    "pycharm": {
     "name": "#%%\n"
    }
   },
   "outputs": [
    {
     "data": {
      "text/html": [
       "<div>\n",
       "<style scoped>\n",
       "    .dataframe tbody tr th:only-of-type {\n",
       "        vertical-align: middle;\n",
       "    }\n",
       "\n",
       "    .dataframe tbody tr th {\n",
       "        vertical-align: top;\n",
       "    }\n",
       "\n",
       "    .dataframe thead th {\n",
       "        text-align: right;\n",
       "    }\n",
       "</style>\n",
       "<table border=\"1\" class=\"dataframe\">\n",
       "  <thead>\n",
       "    <tr style=\"text-align: right;\">\n",
       "      <th></th>\n",
       "      <th>open</th>\n",
       "      <th>high</th>\n",
       "      <th>low</th>\n",
       "      <th>close</th>\n",
       "      <th>tick_volume</th>\n",
       "      <th>spread</th>\n",
       "      <th>real_volume</th>\n",
       "    </tr>\n",
       "    <tr>\n",
       "      <th>time</th>\n",
       "      <th></th>\n",
       "      <th></th>\n",
       "      <th></th>\n",
       "      <th></th>\n",
       "      <th></th>\n",
       "      <th></th>\n",
       "      <th></th>\n",
       "    </tr>\n",
       "  </thead>\n",
       "  <tbody>\n",
       "    <tr>\n",
       "      <th>2014-09-26 13:00:00</th>\n",
       "      <td>1.27431</td>\n",
       "      <td>1.27438</td>\n",
       "      <td>1.27249</td>\n",
       "      <td>1.27318</td>\n",
       "      <td>4269</td>\n",
       "      <td>2</td>\n",
       "      <td>0</td>\n",
       "    </tr>\n",
       "    <tr>\n",
       "      <th>2014-09-26 14:00:00</th>\n",
       "      <td>1.27317</td>\n",
       "      <td>1.27398</td>\n",
       "      <td>1.27105</td>\n",
       "      <td>1.27136</td>\n",
       "      <td>7834</td>\n",
       "      <td>2</td>\n",
       "      <td>0</td>\n",
       "    </tr>\n",
       "    <tr>\n",
       "      <th>2014-09-26 15:00:00</th>\n",
       "      <td>1.27133</td>\n",
       "      <td>1.27283</td>\n",
       "      <td>1.26890</td>\n",
       "      <td>1.26964</td>\n",
       "      <td>9432</td>\n",
       "      <td>2</td>\n",
       "      <td>0</td>\n",
       "    </tr>\n",
       "    <tr>\n",
       "      <th>2014-09-26 16:00:00</th>\n",
       "      <td>1.26970</td>\n",
       "      <td>1.27034</td>\n",
       "      <td>1.26780</td>\n",
       "      <td>1.26958</td>\n",
       "      <td>8660</td>\n",
       "      <td>2</td>\n",
       "      <td>0</td>\n",
       "    </tr>\n",
       "    <tr>\n",
       "      <th>2014-09-26 17:00:00</th>\n",
       "      <td>1.26955</td>\n",
       "      <td>1.27014</td>\n",
       "      <td>1.26817</td>\n",
       "      <td>1.26853</td>\n",
       "      <td>4583</td>\n",
       "      <td>2</td>\n",
       "      <td>0</td>\n",
       "    </tr>\n",
       "  </tbody>\n",
       "</table>\n",
       "</div>"
      ],
      "text/plain": [
       "                        open     high      low    close  tick_volume  spread  \\\n",
       "time                                                                           \n",
       "2014-09-26 13:00:00  1.27431  1.27438  1.27249  1.27318         4269       2   \n",
       "2014-09-26 14:00:00  1.27317  1.27398  1.27105  1.27136         7834       2   \n",
       "2014-09-26 15:00:00  1.27133  1.27283  1.26890  1.26964         9432       2   \n",
       "2014-09-26 16:00:00  1.26970  1.27034  1.26780  1.26958         8660       2   \n",
       "2014-09-26 17:00:00  1.26955  1.27014  1.26817  1.26853         4583       2   \n",
       "\n",
       "                     real_volume  \n",
       "time                              \n",
       "2014-09-26 13:00:00            0  \n",
       "2014-09-26 14:00:00            0  \n",
       "2014-09-26 15:00:00            0  \n",
       "2014-09-26 16:00:00            0  \n",
       "2014-09-26 17:00:00            0  "
      ]
     },
     "execution_count": 4,
     "metadata": {},
     "output_type": "execute_result"
    }
   ],
   "source": [
    "# creazione di un indice temporale tramite\n",
    "# la conversione della colonna [time] in datetime\n",
    "\n",
    "candles['time'] = pd.to_datetime(candles['time'], unit='s')\n",
    "candles.set_index('time', inplace=True)\n",
    "\n",
    "candles.head()"
   ]
  },
  {
   "cell_type": "code",
   "execution_count": 5,
   "metadata": {
    "pycharm": {
     "name": "#%%\n"
    }
   },
   "outputs": [
    {
     "data": {
      "text/html": [
       "<div>\n",
       "<style scoped>\n",
       "    .dataframe tbody tr th:only-of-type {\n",
       "        vertical-align: middle;\n",
       "    }\n",
       "\n",
       "    .dataframe tbody tr th {\n",
       "        vertical-align: top;\n",
       "    }\n",
       "\n",
       "    .dataframe thead th {\n",
       "        text-align: right;\n",
       "    }\n",
       "</style>\n",
       "<table border=\"1\" class=\"dataframe\">\n",
       "  <thead>\n",
       "    <tr style=\"text-align: right;\">\n",
       "      <th></th>\n",
       "      <th>open</th>\n",
       "      <th>high</th>\n",
       "      <th>low</th>\n",
       "      <th>close</th>\n",
       "      <th>volume</th>\n",
       "    </tr>\n",
       "    <tr>\n",
       "      <th>time</th>\n",
       "      <th></th>\n",
       "      <th></th>\n",
       "      <th></th>\n",
       "      <th></th>\n",
       "      <th></th>\n",
       "    </tr>\n",
       "  </thead>\n",
       "  <tbody>\n",
       "    <tr>\n",
       "      <th>2014-09-26 13:00:00</th>\n",
       "      <td>1.27431</td>\n",
       "      <td>1.27438</td>\n",
       "      <td>1.27249</td>\n",
       "      <td>1.27318</td>\n",
       "      <td>4269</td>\n",
       "    </tr>\n",
       "    <tr>\n",
       "      <th>2014-09-26 14:00:00</th>\n",
       "      <td>1.27317</td>\n",
       "      <td>1.27398</td>\n",
       "      <td>1.27105</td>\n",
       "      <td>1.27136</td>\n",
       "      <td>7834</td>\n",
       "    </tr>\n",
       "    <tr>\n",
       "      <th>2014-09-26 15:00:00</th>\n",
       "      <td>1.27133</td>\n",
       "      <td>1.27283</td>\n",
       "      <td>1.26890</td>\n",
       "      <td>1.26964</td>\n",
       "      <td>9432</td>\n",
       "    </tr>\n",
       "    <tr>\n",
       "      <th>2014-09-26 16:00:00</th>\n",
       "      <td>1.26970</td>\n",
       "      <td>1.27034</td>\n",
       "      <td>1.26780</td>\n",
       "      <td>1.26958</td>\n",
       "      <td>8660</td>\n",
       "    </tr>\n",
       "    <tr>\n",
       "      <th>2014-09-26 17:00:00</th>\n",
       "      <td>1.26955</td>\n",
       "      <td>1.27014</td>\n",
       "      <td>1.26817</td>\n",
       "      <td>1.26853</td>\n",
       "      <td>4583</td>\n",
       "    </tr>\n",
       "  </tbody>\n",
       "</table>\n",
       "</div>"
      ],
      "text/plain": [
       "                        open     high      low    close  volume\n",
       "time                                                           \n",
       "2014-09-26 13:00:00  1.27431  1.27438  1.27249  1.27318    4269\n",
       "2014-09-26 14:00:00  1.27317  1.27398  1.27105  1.27136    7834\n",
       "2014-09-26 15:00:00  1.27133  1.27283  1.26890  1.26964    9432\n",
       "2014-09-26 16:00:00  1.26970  1.27034  1.26780  1.26958    8660\n",
       "2014-09-26 17:00:00  1.26955  1.27014  1.26817  1.26853    4583"
      ]
     },
     "execution_count": 5,
     "metadata": {},
     "output_type": "execute_result"
    }
   ],
   "source": [
    "# ristrutturazione dataset\n",
    "\n",
    "candles['volume'] = candles['tick_volume']\n",
    "candles.drop('tick_volume', axis=1, inplace=True)\n",
    "candles.drop('real_volume', axis=1, inplace=True)\n",
    "candles.drop('spread', axis=1, inplace=True)\n",
    "\n",
    "candles.head()"
   ]
  },
  {
   "cell_type": "code",
   "execution_count": 8,
   "metadata": {
    "pycharm": {
     "name": "#%%\n"
    }
   },
   "outputs": [
    {
     "data": {
      "image/png": "[encoded data removed]",
      "text/plain": [
       "<Figure size 1200x600 with 4 Axes>"
      ]
     },
     "metadata": {},
     "output_type": "display_data"
    }
   ],
   "source": [
    "# visualizzazione grafico a candele e volumi\n",
    "\n",
    "mpf.plot(candles[-100:], style='mike', type='candle', volume=True, figsize=(12, 6))"
   ]
  },
  {
   "cell_type": "code",
   "execution_count": 9,
   "metadata": {
    "pycharm": {
     "name": "#%%\n"
    }
   },
   "outputs": [
    {
     "data": {
      "image/png": "[encoded data removed]",
      "text/plain": [
       "<Figure size 1200x600 with 2 Axes>"
      ]
     },
     "metadata": {},
     "output_type": "display_data"
    }
   ],
   "source": [
    "# selezione intervallo di 10 giorni\n",
    "\n",
    "giugno_2022 = candles['2022-06-01':'2022-06-10'].copy()\n",
    "\n",
    "data_start = giugno_2022.index[0].strftime('%d/%m/%y %H:%M')\n",
    "data_end = giugno_2022.index[-1].strftime('%d/%m/%y %H:%M')\n",
    "\n",
    "mpf.plot(giugno_2022, figsize=(12, 6), title=data_start + ' - ' + data_end)"
   ]
  },
  {
   "cell_type": "code",
   "execution_count": 10,
   "metadata": {
    "pycharm": {
     "name": "#%%\n"
    }
   },
   "outputs": [
    {
     "name": "stdout",
     "output_type": "stream",
     "text": [
      "<class 'pandas.core.frame.DataFrame'>\n",
      "DatetimeIndex: 50000 entries, 2014-09-26 13:00:00 to 2022-10-12 15:00:00\n",
      "Data columns (total 5 columns):\n",
      " #   Column  Non-Null Count  Dtype  \n",
      "---  ------  --------------  -----  \n",
      " 0   open    50000 non-null  float64\n",
      " 1   high    50000 non-null  float64\n",
      " 2   low     50000 non-null  float64\n",
      " 3   close   50000 non-null  float64\n",
      " 4   volume  50000 non-null  uint64 \n",
      "dtypes: float64(4), uint64(1)\n",
      "memory usage: 3.3 MB\n"
     ]
    }
   ],
   "source": [
    "# informazioni sul dataset\n",
    "\n",
    "candles.info()"
   ]
  },
  {
   "cell_type": "code",
   "execution_count": 11,
   "metadata": {
    "pycharm": {
     "name": "#%%\n"
    }
   },
   "outputs": [
    {
     "data": {
      "text/html": [
       "<div>\n",
       "<style scoped>\n",
       "    .dataframe tbody tr th:only-of-type {\n",
       "        vertical-align: middle;\n",
       "    }\n",
       "\n",
       "    .dataframe tbody tr th {\n",
       "        vertical-align: top;\n",
       "    }\n",
       "\n",
       "    .dataframe thead th {\n",
       "        text-align: right;\n",
       "    }\n",
       "</style>\n",
       "<table border=\"1\" class=\"dataframe\">\n",
       "  <thead>\n",
       "    <tr style=\"text-align: right;\">\n",
       "      <th></th>\n",
       "      <th>count</th>\n",
       "      <th>mean</th>\n",
       "      <th>std</th>\n",
       "      <th>min</th>\n",
       "      <th>25%</th>\n",
       "      <th>50%</th>\n",
       "      <th>75%</th>\n",
       "      <th>max</th>\n",
       "    </tr>\n",
       "  </thead>\n",
       "  <tbody>\n",
       "    <tr>\n",
       "      <th>open</th>\n",
       "      <td>50000.0</td>\n",
       "      <td>1.134832</td>\n",
       "      <td>0.055045</td>\n",
       "      <td>0.95388</td>\n",
       "      <td>1.101047</td>\n",
       "      <td>1.129370</td>\n",
       "      <td>1.175850</td>\n",
       "      <td>1.28400</td>\n",
       "    </tr>\n",
       "    <tr>\n",
       "      <th>high</th>\n",
       "      <td>50000.0</td>\n",
       "      <td>1.135620</td>\n",
       "      <td>0.054991</td>\n",
       "      <td>0.95590</td>\n",
       "      <td>1.101750</td>\n",
       "      <td>1.130070</td>\n",
       "      <td>1.176532</td>\n",
       "      <td>1.28869</td>\n",
       "    </tr>\n",
       "    <tr>\n",
       "      <th>low</th>\n",
       "      <td>50000.0</td>\n",
       "      <td>1.134060</td>\n",
       "      <td>0.055092</td>\n",
       "      <td>0.95351</td>\n",
       "      <td>1.100330</td>\n",
       "      <td>1.128605</td>\n",
       "      <td>1.175152</td>\n",
       "      <td>1.28295</td>\n",
       "    </tr>\n",
       "    <tr>\n",
       "      <th>close</th>\n",
       "      <td>50000.0</td>\n",
       "      <td>1.134827</td>\n",
       "      <td>0.055046</td>\n",
       "      <td>0.95386</td>\n",
       "      <td>1.101058</td>\n",
       "      <td>1.129360</td>\n",
       "      <td>1.175850</td>\n",
       "      <td>1.28399</td>\n",
       "    </tr>\n",
       "    <tr>\n",
       "      <th>volume</th>\n",
       "      <td>50000.0</td>\n",
       "      <td>4246.876780</td>\n",
       "      <td>3690.784109</td>\n",
       "      <td>1.00000</td>\n",
       "      <td>1826.750000</td>\n",
       "      <td>3304.000000</td>\n",
       "      <td>5547.000000</td>\n",
       "      <td>92768.00000</td>\n",
       "    </tr>\n",
       "  </tbody>\n",
       "</table>\n",
       "</div>"
      ],
      "text/plain": [
       "          count         mean          std      min          25%          50%  \\\n",
       "open    50000.0     1.134832     0.055045  0.95388     1.101047     1.129370   \n",
       "high    50000.0     1.135620     0.054991  0.95590     1.101750     1.130070   \n",
       "low     50000.0     1.134060     0.055092  0.95351     1.100330     1.128605   \n",
       "close   50000.0     1.134827     0.055046  0.95386     1.101058     1.129360   \n",
       "volume  50000.0  4246.876780  3690.784109  1.00000  1826.750000  3304.000000   \n",
       "\n",
       "                75%          max  \n",
       "open       1.175850      1.28400  \n",
       "high       1.176532      1.28869  \n",
       "low        1.175152      1.28295  \n",
       "close      1.175850      1.28399  \n",
       "volume  5547.000000  92768.00000  "
      ]
     },
     "execution_count": 11,
     "metadata": {},
     "output_type": "execute_result"
    }
   ],
   "source": [
    "# analisi distribuzione statistica livelli di prezzo e volumi\n",
    "\n",
    "candles.describe().transpose()"
   ]
  },
  {
   "cell_type": "code",
   "execution_count": 12,
   "metadata": {
    "pycharm": {
     "name": "#%%\n"
    }
   },
   "outputs": [
    {
     "name": "stdout",
     "output_type": "stream",
     "text": [
      "mese: 3 media prezzo chiusura H1: 1.101845670289855\n",
      "mese: 4 media prezzo chiusura H1: 1.081600874751491\n",
      "mese: 5 media prezzo chiusura H1: 1.0574481852551985\n"
     ]
    }
   ],
   "source": [
    "# verifica prezzo medio di chiusura in H1 su 3 mesi\n",
    "# sfruttando l'output del metodo [describe()]\n",
    "\n",
    "for mese in range(3, 6):\n",
    "    print(\n",
    "        'mese:', mese,\n",
    "        'media prezzo chiusura H1:',\n",
    "        candles[(candles.index.year == 2022) & (candles.index.month == mese)].describe()['close']['mean']\n",
    "    )"
   ]
  },
  {
   "cell_type": "code",
   "execution_count": 13,
   "metadata": {
    "pycharm": {
     "name": "#%%\n"
    }
   },
   "outputs": [
    {
     "name": "stdout",
     "output_type": "stream",
     "text": [
      "mese: 3 media prezzo chiusura H1: 1.101845670289855\n",
      "mese: 4 media prezzo chiusura H1: 1.081600874751491\n",
      "mese: 5 media prezzo chiusura H1: 1.0574481852551985\n"
     ]
    }
   ],
   "source": [
    "# verifica prezzo medio di chiusura in H1 su 3 mesi\n",
    "# con codice ad hoc (esecuzione più veloce)\n",
    "\n",
    "for mese in range(3, 6):\n",
    "    print(\n",
    "        'mese:', mese,\n",
    "        'media prezzo chiusura H1:',\n",
    "        candles[(candles.index.year == 2022) & (candles.index.month == mese)]['close'].mean()\n",
    "    )"
   ]
  },
  {
   "cell_type": "code",
   "execution_count": 14,
   "metadata": {
    "pycharm": {
     "name": "#%%\n"
    }
   },
   "outputs": [
    {
     "name": "stdout",
     "output_type": "stream",
     "text": [
      "tempo di esecuzione tramite metodo describe(): 0:00:08.636944\n",
      "tempo di esecuzione tramite metodo ad hoc    : 0:00:03.703003\n"
     ]
    }
   ],
   "source": [
    "# check velocità esecuzione\n",
    "\n",
    "data = []\n",
    "start_time = datetime.now()\n",
    "for i in range(100):\n",
    "    for mese in range(3, 6):\n",
    "        data.append(candles[(candles.index.year == 2022) & (candles.index.month == mese)].describe()['close']['mean'])\n",
    "describe_time = datetime.now() - start_time\n",
    "\n",
    "data = []\n",
    "start_time = datetime.now()\n",
    "for i in range(100):\n",
    "    for mese in range(3, 6):\n",
    "        data.append(candles[(candles.index.year == 2022) & (candles.index.month == mese)]['close'].mean())\n",
    "ad_hoc_time = datetime.now() - start_time\n",
    "\n",
    "print('tempo di esecuzione tramite metodo describe():', describe_time)\n",
    "print('tempo di esecuzione tramite metodo ad hoc    :', ad_hoc_time)"
   ]
  },
  {
   "cell_type": "code",
   "execution_count": null,
   "metadata": {
    "pycharm": {
     "name": "#%%\n"
    }
   },
   "outputs": [],
   "source": []
  }
 ],
 "metadata": {
  "kernelspec": {
   "display_name": "Python 3 (ipykernel)",
   "language": "python",
   "name": "python3"
  },
  "language_info": {
   "codemirror_mode": {
    "name": "ipython",
    "version": 3
   },
   "file_extension": ".py",
   "mimetype": "text/x-python",
   "name": "python",
   "nbconvert_exporter": "python",
   "pygments_lexer": "ipython3",
   "version": "3.7.8"
  }
 },
 "nbformat": 4,
 "nbformat_minor": 1
}