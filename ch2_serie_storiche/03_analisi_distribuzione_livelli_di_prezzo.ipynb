{
 "cells": [
  {
   "cell_type": "markdown",
   "metadata": {},
   "source": [
    "### Esercitazione 3 - Analisi distribuzione livelli di prezzo\n",
    "#### Argomenti\n",
    "\n",
    "* recupero serie storiche da un provider dati\n",
    "* analisi statistica\n",
    "* analisi distribuzione dei livelli di prezzo\n",
    "* creazione di un grafico custom per evidenziare i livelli di prezzo con più scambi"
   ]
  },
  {
   "cell_type": "code",
   "execution_count": 1,
   "metadata": {},
   "outputs": [],
   "source": [
    "from Historic_Crypto import HistoricalData\n",
    "from datetime import datetime, timedelta\n",
    "import matplotlib.pyplot as plt\n",
    "import numpy as np\n",
    "import seaborn as sns\n",
    "import pandas as pd"
   ]
  },
  {
   "cell_type": "code",
   "execution_count": 2,
   "metadata": {
    "pycharm": {
     "name": "#%%\n"
    }
   },
   "outputs": [
    {
     "name": "stdout",
     "output_type": "stream",
     "text": [
      "Provisional Start: 2022-09-13T11:20:00\n",
      "Provisional End: 2022-09-25T23:20:00\n",
      "Provisional Start: 2022-09-25T23:20:00\n",
      "Provisional End: 2022-10-08T11:20:00\n",
      "Provisional Start: 2022-10-08T11:20:00\n",
      "Provisional End: 2022-10-20T23:20:00\n"
     ]
    }
   ],
   "source": [
    "end_date = datetime.now()\n",
    "start_date = end_date - timedelta(days=30)\n",
    "\n",
    "candles = HistoricalData(\n",
    "    ticker='BTC-USD',\n",
    "    granularity=3600,\n",
    "    start_date=start_date.strftime('%Y-%m-%d-%H-%M'),\n",
    "    end_date=end_date.strftime('%Y-%m-%d-%H-%M'),\n",
    "    verbose=False\n",
    ").retrieve_data()"
   ]
  },
  {
   "cell_type": "code",
   "execution_count": 3,
   "metadata": {
    "pycharm": {
     "name": "#%%\n"
    }
   },
   "outputs": [
    {
     "data": {
      "text/html": [
       "<div>\n",
       "<style scoped>\n",
       "    .dataframe tbody tr th:only-of-type {\n",
       "        vertical-align: middle;\n",
       "    }\n",
       "\n",
       "    .dataframe tbody tr th {\n",
       "        vertical-align: top;\n",
       "    }\n",
       "\n",
       "    .dataframe thead th {\n",
       "        text-align: right;\n",
       "    }\n",
       "</style>\n",
       "<table border=\"1\" class=\"dataframe\">\n",
       "  <thead>\n",
       "    <tr style=\"text-align: right;\">\n",
       "      <th></th>\n",
       "      <th>count</th>\n",
       "      <th>mean</th>\n",
       "      <th>std</th>\n",
       "      <th>min</th>\n",
       "      <th>25%</th>\n",
       "      <th>50%</th>\n",
       "      <th>75%</th>\n",
       "      <th>max</th>\n",
       "    </tr>\n",
       "  </thead>\n",
       "  <tbody>\n",
       "    <tr>\n",
       "      <th>low</th>\n",
       "      <td>718.0</td>\n",
       "      <td>19385.479903</td>\n",
       "      <td>474.602077</td>\n",
       "      <td>18153.130000</td>\n",
       "      <td>19042.562500</td>\n",
       "      <td>19318.055000</td>\n",
       "      <td>19749.72250</td>\n",
       "      <td>21318.500000</td>\n",
       "    </tr>\n",
       "    <tr>\n",
       "      <th>high</th>\n",
       "      <td>718.0</td>\n",
       "      <td>19548.145641</td>\n",
       "      <td>485.012181</td>\n",
       "      <td>18474.300000</td>\n",
       "      <td>19174.295000</td>\n",
       "      <td>19476.210000</td>\n",
       "      <td>19913.27000</td>\n",
       "      <td>22800.000000</td>\n",
       "    </tr>\n",
       "    <tr>\n",
       "      <th>open</th>\n",
       "      <td>718.0</td>\n",
       "      <td>19472.175933</td>\n",
       "      <td>484.094183</td>\n",
       "      <td>18389.430000</td>\n",
       "      <td>19110.335000</td>\n",
       "      <td>19403.830000</td>\n",
       "      <td>19851.56750</td>\n",
       "      <td>22528.950000</td>\n",
       "    </tr>\n",
       "    <tr>\n",
       "      <th>close</th>\n",
       "      <td>718.0</td>\n",
       "      <td>19467.401100</td>\n",
       "      <td>470.693337</td>\n",
       "      <td>18390.510000</td>\n",
       "      <td>19109.627500</td>\n",
       "      <td>19402.775000</td>\n",
       "      <td>19842.28250</td>\n",
       "      <td>21402.790000</td>\n",
       "    </tr>\n",
       "    <tr>\n",
       "      <th>volume</th>\n",
       "      <td>718.0</td>\n",
       "      <td>1170.463496</td>\n",
       "      <td>899.899128</td>\n",
       "      <td>129.622532</td>\n",
       "      <td>565.910353</td>\n",
       "      <td>941.786393</td>\n",
       "      <td>1564.19879</td>\n",
       "      <td>10486.330822</td>\n",
       "    </tr>\n",
       "  </tbody>\n",
       "</table>\n",
       "</div>"
      ],
      "text/plain": [
       "        count          mean         std           min           25%  \\\n",
       "low     718.0  19385.479903  474.602077  18153.130000  19042.562500   \n",
       "high    718.0  19548.145641  485.012181  18474.300000  19174.295000   \n",
       "open    718.0  19472.175933  484.094183  18389.430000  19110.335000   \n",
       "close   718.0  19467.401100  470.693337  18390.510000  19109.627500   \n",
       "volume  718.0   1170.463496  899.899128    129.622532    565.910353   \n",
       "\n",
       "                 50%          75%           max  \n",
       "low     19318.055000  19749.72250  21318.500000  \n",
       "high    19476.210000  19913.27000  22800.000000  \n",
       "open    19403.830000  19851.56750  22528.950000  \n",
       "close   19402.775000  19842.28250  21402.790000  \n",
       "volume    941.786393   1564.19879  10486.330822  "
      ]
     },
     "execution_count": 3,
     "metadata": {},
     "output_type": "execute_result"
    }
   ],
   "source": [
    "candles.describe().transpose()"
   ]
  },
  {
   "cell_type": "code",
   "execution_count": 4,
   "metadata": {
    "pycharm": {
     "name": "#%%\n"
    }
   },
   "outputs": [
    {
     "data": {
      "image/png": "[encoded data removed]",
      "text/plain": [
       "<Figure size 432x288 with 1 Axes>"
      ]
     },
     "metadata": {
      "needs_background": "light"
     },
     "output_type": "display_data"
    }
   ],
   "source": [
    "plt.hist(candles.close, density=True, bins=5)\n",
    "plt.show()"
   ]
  },
  {
   "cell_type": "code",
   "execution_count": 5,
   "metadata": {
    "pycharm": {
     "name": "#%%\n"
    }
   },
   "outputs": [
    {
     "data": {
      "image/png": "[encoded data removed]",
      "text/plain": [
       "<Figure size 360x360 with 1 Axes>"
      ]
     },
     "metadata": {
      "needs_background": "light"
     },
     "output_type": "display_data"
    }
   ],
   "source": [
    "sns.displot(candles.close, bins=10)\n",
    "plt.show()"
   ]
  },
  {
   "cell_type": "code",
   "execution_count": 6,
   "metadata": {
    "pycharm": {
     "name": "#%%\n"
    }
   },
   "outputs": [
    {
     "data": {
      "image/png": "[encoded data removed]",
      "text/plain": [
       "<Figure size 864x288 with 2 Axes>"
      ]
     },
     "metadata": {
      "needs_background": "light"
     },
     "output_type": "display_data"
    }
   ],
   "source": [
    "y_max = candles.high.max()\n",
    "y_min = candles.low.min()\n",
    "steps = int(len(candles) / 50)\n",
    "price_step = (y_max - y_min) / steps\n",
    "price_intervals = candles.groupby(pd.cut(candles['close'], np.arange(y_min, y_max, price_step))).sum()\n",
    "price_intervals_labels = [p.right for p in price_intervals.index.values]\n",
    "price_intervals_volume_values = price_intervals.volume.values\n",
    "max_price_intervals_volume_value = np.max(price_intervals_volume_values)\n",
    "\n",
    "plt.figure(figsize=(12, 4))\n",
    "plt.plot(candles.close, color='blue', label='close price')\n",
    "plt.xticks(rotation=90)\n",
    "plt.ylabel('Price')\n",
    "ax1b = plt.twiny()\n",
    "ax1b.barh(price_intervals_labels, price_intervals_volume_values, height=50, alpha=0.25, color='green')\n",
    "ax1b.axis(xmin=0, xmax=max_price_intervals_volume_value)\n",
    "ax1b.set_xlabel('Volume')\n",
    "ax1b.tick_params(axis=\"x\", labelsize=8)\n",
    "ax1b.tick_params(axis=\"y\", labelsize=8)\n",
    "plt.show()"
   ]
  },
  {
   "cell_type": "code",
   "execution_count": null,
   "metadata": {},
   "outputs": [],
   "source": []
  }
 ],
 "metadata": {
  "kernelspec": {
   "display_name": "Python 3 (ipykernel)",
   "language": "python",
   "name": "python3"
  },
  "language_info": {
   "codemirror_mode": {
    "name": "ipython",
    "version": 3
   },
   "file_extension": ".py",
   "mimetype": "text/x-python",
   "name": "python",
   "nbconvert_exporter": "python",
   "pygments_lexer": "ipython3",
   "version": "3.7.8"
  }
 },
 "nbformat": 4,
 "nbformat_minor": 1
}
